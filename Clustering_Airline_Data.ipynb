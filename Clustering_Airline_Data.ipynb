{
 "cells": [
  {
   "cell_type": "markdown",
   "metadata": {},
   "source": [
    "## Exercise: Clustering with Airline Data\n",
    "\n",
    "Market segmentation is a strategy that divides a broad target market of customers into smaller, more similar groups, and then designs a marketing strategy specifically for each group. Clustering is a common technique for market segmentation since it automatically finds similar groups given a data set.\n",
    "\n",
    "In this notebook, we'll see how clustering can be used to find similar groups of customers who belong to an airline's frequent flyer program. The airline is trying to learn more about its customers so that it can target different customer segments with different types of mileage offers.\n",
    "\n",
    "We will be focusing on Hierarchical clustering to find clusters of data. Most of the exercises are similar to what we have in labs and practices while some of them might be a bit challenging. Explore the web to find the commands needed to perform a few exercises. We will use the file AirlinesCluster.csv that contains information on 3,999 members of the frequent flyer program. The data comes from the textbook \"Data Mining for Business Intelligence,\" by Galit Shmueli, Nitin R. Patel, and Peter C. Bruce.\n",
    "\n",
    "There are seven different variables in the dataset, as described below:\n",
    "\n",
    "- Balance = number of miles eligible for award travel\n",
    "- QualMiles = number of miles qualifying for TopFlight status\n",
    "- BonusMiles = number of miles earned from non-flight bonus transactions in the past 12 months\n",
    "- BonusTrans = number of non-flight bonus transactions in the past 12 months\n",
    "- FlightMiles = number of flight miles in the past 12 months\n",
    "- FlightTrans = number of flight transactions in the past 12 months\n",
    "- DaysSinceEnroll = number of days since enrolled in the frequent flyer program"
   ]
  },
  {
   "cell_type": "code",
   "execution_count": 1,
   "metadata": {
    "collapsed": true
   },
   "outputs": [],
   "source": [
    "import numpy as np\n",
    "import pandas as pd\n",
    "from sklearn import cluster\n",
    "from matplotlib import pyplot\n",
    "from sklearn.decomposition import PCA\n",
    "from sklearn.preprocessing import StandardScaler\n",
    "import scipy.cluster.hierarchy as hca\n",
    "from sklearn.cluster import DBSCAN\n",
    "from sklearn.cluster import KMeans\n",
    "import matplotlib.pyplot as plt\n",
    "\n",
    "from pylab import *\n",
    "\n",
    "%matplotlib inline"
   ]
  },
  {
   "cell_type": "code",
   "execution_count": 2,
   "metadata": {},
   "outputs": [
    {
     "data": {
      "text/html": [
       "<div>\n",
       "<style>\n",
       "    .dataframe thead tr:only-child th {\n",
       "        text-align: right;\n",
       "    }\n",
       "\n",
       "    .dataframe thead th {\n",
       "        text-align: left;\n",
       "    }\n",
       "\n",
       "    .dataframe tbody tr th {\n",
       "        vertical-align: top;\n",
       "    }\n",
       "</style>\n",
       "<table border=\"1\" class=\"dataframe\">\n",
       "  <thead>\n",
       "    <tr style=\"text-align: right;\">\n",
       "      <th></th>\n",
       "      <th>Balance</th>\n",
       "      <th>QualMiles</th>\n",
       "      <th>BonusMiles</th>\n",
       "      <th>BonusTrans</th>\n",
       "      <th>FlightMiles</th>\n",
       "      <th>FlightTrans</th>\n",
       "      <th>DaysSinceEnroll</th>\n",
       "    </tr>\n",
       "  </thead>\n",
       "  <tbody>\n",
       "    <tr>\n",
       "      <th>0</th>\n",
       "      <td>28143</td>\n",
       "      <td>0</td>\n",
       "      <td>174</td>\n",
       "      <td>1</td>\n",
       "      <td>0</td>\n",
       "      <td>0</td>\n",
       "      <td>7000</td>\n",
       "    </tr>\n",
       "    <tr>\n",
       "      <th>1</th>\n",
       "      <td>19244</td>\n",
       "      <td>0</td>\n",
       "      <td>215</td>\n",
       "      <td>2</td>\n",
       "      <td>0</td>\n",
       "      <td>0</td>\n",
       "      <td>6968</td>\n",
       "    </tr>\n",
       "    <tr>\n",
       "      <th>2</th>\n",
       "      <td>41354</td>\n",
       "      <td>0</td>\n",
       "      <td>4123</td>\n",
       "      <td>4</td>\n",
       "      <td>0</td>\n",
       "      <td>0</td>\n",
       "      <td>7034</td>\n",
       "    </tr>\n",
       "    <tr>\n",
       "      <th>3</th>\n",
       "      <td>14776</td>\n",
       "      <td>0</td>\n",
       "      <td>500</td>\n",
       "      <td>1</td>\n",
       "      <td>0</td>\n",
       "      <td>0</td>\n",
       "      <td>6952</td>\n",
       "    </tr>\n",
       "  </tbody>\n",
       "</table>\n",
       "</div>"
      ],
      "text/plain": [
       "   Balance  QualMiles  BonusMiles  BonusTrans  FlightMiles  FlightTrans  \\\n",
       "0    28143          0         174           1            0            0   \n",
       "1    19244          0         215           2            0            0   \n",
       "2    41354          0        4123           4            0            0   \n",
       "3    14776          0         500           1            0            0   \n",
       "\n",
       "   DaysSinceEnroll  \n",
       "0             7000  \n",
       "1             6968  \n",
       "2             7034  \n",
       "3             6952  "
      ]
     },
     "execution_count": 2,
     "metadata": {},
     "output_type": "execute_result"
    }
   ],
   "source": [
    "airlines_data = pd.read_csv(\"../../../../datasets/DSA-8630/AirlinesCluster.csv\")\n",
    "airlines_data[:4]"
   ]
  },
  {
   "cell_type": "code",
   "execution_count": 3,
   "metadata": {},
   "outputs": [
    {
     "data": {
      "text/plain": [
       "(3999, 7)"
      ]
     },
     "execution_count": 3,
     "metadata": {},
     "output_type": "execute_result"
    }
   ],
   "source": [
    "airlines_data.shape"
   ]
  },
  {
   "cell_type": "markdown",
   "metadata": {},
   "source": [
    "#### Normalize the data\n",
    "\n",
    "Why is it important to normalize the data before clustering?\n",
    "\n",
    "- If we don't normalize the data, the variables that are on a larger scale will contribute much more to the distance calculation, and thus will dominate the clustering.\n",
    "\n",
    "\n",
    "**Activity 1: ** Create a normalized data frame called \"airlinesNorm\" using the StandardScaler() function"
   ]
  },
  {
   "cell_type": "code",
   "execution_count": 4,
   "metadata": {
    "collapsed": true
   },
   "outputs": [],
   "source": [
    "# Your code for activity 1 goes here...\n",
    "\n",
    "stscaler = StandardScaler().fit(airlines_data)\n",
    "airlinesNorm = stscaler.fit_transform(airlines_data)"
   ]
  },
  {
   "cell_type": "markdown",
   "metadata": {},
   "source": [
    "**Activity 2: ** Compute the distances between data points (using euclidean distance) and then run the Hierarchical clustering algorithm (using method=\"ward\") on the normalized data"
   ]
  },
  {
   "cell_type": "code",
   "execution_count": 5,
   "metadata": {
    "collapsed": true
   },
   "outputs": [],
   "source": [
    "# Your code for activity 2 goes here...\n",
    "\n",
    "link_matrix=hca.linkage(airlinesNorm,metric=\"euclidean\",method=\"ward\")"
   ]
  },
  {
   "cell_type": "code",
   "execution_count": 6,
   "metadata": {},
   "outputs": [
    {
     "data": {
      "text/plain": [
       "array([  3.37000000e+03,   3.87600000e+03,   0.00000000e+00,\n",
       "         2.00000000e+00])"
      ]
     },
     "execution_count": 6,
     "metadata": {},
     "output_type": "execute_result"
    }
   ],
   "source": [
    "link_matrix[0]"
   ]
  },
  {
   "cell_type": "code",
   "execution_count": 7,
   "metadata": {},
   "outputs": [
    {
     "data": {
      "text/plain": [
       "array([  1.82600000e+03,   2.12100000e+03,   1.88561158e-03,\n",
       "         2.00000000e+00])"
      ]
     },
     "execution_count": 7,
     "metadata": {},
     "output_type": "execute_result"
    }
   ],
   "source": [
    "link_matrix[1]"
   ]
  },
  {
   "cell_type": "markdown",
   "metadata": {},
   "source": [
    "**Activity 3: ** Plot the dendogram"
   ]
  },
  {
   "cell_type": "code",
   "execution_count": 8,
   "metadata": {},
   "outputs": [
    {
     "data": {
      "text/plain": [
       "<matplotlib.text.Text at 0x7fec503400b8>"
      ]
     },
     "execution_count": 8,
     "metadata": {},
     "output_type": "execute_result"
    },
    {
     "data": {
      "image/png": "[encoded data removed]",
      "text/plain": [
       "<matplotlib.figure.Figure at 0x7fec5262deb8>"
      ]
     },
     "metadata": {},
     "output_type": "display_data"
    }
   ],
   "source": [
    "# Your code for activity 3 goes here...\n",
    "plt=hca.dendrogram(link_matrix,truncate_mode=\"lastp\",p=25)\n",
    "xticks(rotation=90)\n",
    "ylabel(\"Distance\")\n",
    "figtext(0.5,0.95,\"Airline Data\",ha=\"center\",fontsize=12)\n",
    "figtext(0.5,0.90,\"Dendrogram (center, euclidean, ward)\",ha=\"center\",fontsize=10)"
   ]
  },
  {
   "cell_type": "markdown",
   "metadata": {},
   "source": [
    "### knowing K (number of clusters)\n",
    "\n",
    "**Activity 4: ** Plot the same dendogram again but draw a line on the dendogram to show 5 clusters are formed when performing a cut on dendogram as shown below.\n",
    "\n",
    "**Hint: ** Use fig, axes = pyplot.subplots(1, 1, figsize=(10, 10)) to create the figure and use an axes object to plot a horizontal line.\n",
    "<img src=\"../Images/dendogram.PNG\">"
   ]
  },
  {
   "cell_type": "code",
   "execution_count": 9,
   "metadata": {},
   "outputs": [
    {
     "data": {
      "text/plain": [
       "<matplotlib.text.Text at 0x7fec5026c048>"
      ]
     },
     "execution_count": 9,
     "metadata": {},
     "output_type": "execute_result"
    },
    {
     "data": {
      "image/png": "[encoded data removed]",
      "text/plain": [
       "<matplotlib.figure.Figure at 0x7fec5238a4a8>"
      ]
     },
     "metadata": {},
     "output_type": "display_data"
    }
   ],
   "source": [
    "# Your code for activity 4 goes here...\n",
    "fig, axes = pyplot.subplots(1, 1, figsize=(10, 10))\n",
    "axhline(y=60, linewidth=4, color='y')\n",
    "plt=hca.dendrogram(link_matrix,truncate_mode=\"lastp\",p=25)\n",
    "xticks(rotation=90)\n",
    "ylabel(\"Distance\")\n",
    "figtext(0.5,0.95,\"Airline Data\",ha=\"center\",fontsize=12)\n",
    "figtext(0.5,0.90,\"Dendrogram (center, euclidean, ward)\",ha=\"center\",fontsize=10)\n"
   ]
  },
  {
   "cell_type": "markdown",
   "metadata": {},
   "source": [
    "**Activity 5: ** Print the number of samples in each of the 5 clusters"
   ]
  },
  {
   "cell_type": "code",
   "execution_count": 10,
   "metadata": {},
   "outputs": [
    {
     "data": {
      "text/plain": [
       "array([5, 5, 5, ..., 5, 5, 5], dtype=int32)"
      ]
     },
     "execution_count": 10,
     "metadata": {},
     "output_type": "execute_result"
    }
   ],
   "source": [
    "# Your code for activity 5 goes here...\n",
    "\n",
    "from scipy.cluster.hierarchy import fcluster\n",
    "max_d = 60\n",
    "clusters = fcluster(link_matrix, max_d, criterion='distance')\n",
    "clusters"
   ]
  },
  {
   "cell_type": "code",
   "execution_count": 11,
   "metadata": {},
   "outputs": [
    {
     "data": {
      "text/plain": [
       "5"
      ]
     },
     "execution_count": 11,
     "metadata": {},
     "output_type": "execute_result"
    }
   ],
   "source": [
    "max(clusters)"
   ]
  },
  {
   "cell_type": "code",
   "execution_count": 12,
   "metadata": {},
   "outputs": [
    {
     "name": "stdout",
     "output_type": "stream",
     "text": [
      "[1 2 3 4 5] [  48   53  360 1737 1801]\n"
     ]
    }
   ],
   "source": [
    "unique,counts=np.unique(clusters,return_counts=True)\n",
    "print(unique,counts)"
   ]
  },
  {
   "cell_type": "code",
   "execution_count": 13,
   "metadata": {},
   "outputs": [
    {
     "data": {
      "text/plain": [
       "array([[   1,   48],\n",
       "       [   2,   53],\n",
       "       [   3,  360],\n",
       "       [   4, 1737],\n",
       "       [   5, 1801]])"
      ]
     },
     "execution_count": 13,
     "metadata": {},
     "output_type": "execute_result"
    }
   ],
   "source": [
    "from scipy.stats import itemfreq\n",
    "itemfreq(clusters)"
   ]
  },
  {
   "cell_type": "markdown",
   "metadata": {},
   "source": [
    "**Activity 6: ** Plot the variables BonusMiles on the X-axis and BonusTrans on the Y-axis with clusters as a color reference. use the parameter cmap='prism' to display the colors better."
   ]
  },
  {
   "cell_type": "code",
   "execution_count": 14,
   "metadata": {},
   "outputs": [
    {
     "data": {
      "image/png": "[encoded data removed]",
      "text/plain": [
       "<matplotlib.figure.Figure at 0x7fec523aa668>"
      ]
     },
     "metadata": {},
     "output_type": "display_data"
    }
   ],
   "source": [
    "# Your code for activity 6 goes here...\n",
    "import matplotlib.pyplot as plt\n",
    "plt.figure(figsize=(10, 10))\n",
    "plt.scatter(airlinesNorm[:,2], airlinesNorm[:,3], c=clusters, cmap='prism')  # plot points with cluster dependent colors\n",
    "plt.show()"
   ]
  },
  {
   "cell_type": "markdown",
   "metadata": {},
   "source": [
    "**Activity 7: ** Create a new column called cluster in the airlines_data dataframe using clusters that were generated in activity 5. Group the data according to the cluster column and store the result in a variable called grouped. "
   ]
  },
  {
   "cell_type": "code",
   "execution_count": 15,
   "metadata": {},
   "outputs": [
    {
     "data": {
      "text/html": [
       "<div>\n",
       "<style>\n",
       "    .dataframe thead tr:only-child th {\n",
       "        text-align: right;\n",
       "    }\n",
       "\n",
       "    .dataframe thead th {\n",
       "        text-align: left;\n",
       "    }\n",
       "\n",
       "    .dataframe tbody tr th {\n",
       "        vertical-align: top;\n",
       "    }\n",
       "</style>\n",
       "<table border=\"1\" class=\"dataframe\">\n",
       "  <thead>\n",
       "    <tr style=\"text-align: right;\">\n",
       "      <th></th>\n",
       "      <th>Balance</th>\n",
       "      <th>QualMiles</th>\n",
       "      <th>BonusMiles</th>\n",
       "      <th>BonusTrans</th>\n",
       "      <th>FlightMiles</th>\n",
       "      <th>FlightTrans</th>\n",
       "      <th>DaysSinceEnroll</th>\n",
       "      <th>cluster</th>\n",
       "    </tr>\n",
       "  </thead>\n",
       "  <tbody>\n",
       "    <tr>\n",
       "      <th>0</th>\n",
       "      <td>28143</td>\n",
       "      <td>0</td>\n",
       "      <td>174</td>\n",
       "      <td>1</td>\n",
       "      <td>0</td>\n",
       "      <td>0</td>\n",
       "      <td>7000</td>\n",
       "      <td>5</td>\n",
       "    </tr>\n",
       "    <tr>\n",
       "      <th>1</th>\n",
       "      <td>19244</td>\n",
       "      <td>0</td>\n",
       "      <td>215</td>\n",
       "      <td>2</td>\n",
       "      <td>0</td>\n",
       "      <td>0</td>\n",
       "      <td>6968</td>\n",
       "      <td>5</td>\n",
       "    </tr>\n",
       "    <tr>\n",
       "      <th>2</th>\n",
       "      <td>41354</td>\n",
       "      <td>0</td>\n",
       "      <td>4123</td>\n",
       "      <td>4</td>\n",
       "      <td>0</td>\n",
       "      <td>0</td>\n",
       "      <td>7034</td>\n",
       "      <td>5</td>\n",
       "    </tr>\n",
       "    <tr>\n",
       "      <th>3</th>\n",
       "      <td>14776</td>\n",
       "      <td>0</td>\n",
       "      <td>500</td>\n",
       "      <td>1</td>\n",
       "      <td>0</td>\n",
       "      <td>0</td>\n",
       "      <td>6952</td>\n",
       "      <td>5</td>\n",
       "    </tr>\n",
       "    <tr>\n",
       "      <th>4</th>\n",
       "      <td>97752</td>\n",
       "      <td>0</td>\n",
       "      <td>43300</td>\n",
       "      <td>26</td>\n",
       "      <td>2077</td>\n",
       "      <td>4</td>\n",
       "      <td>6935</td>\n",
       "      <td>3</td>\n",
       "    </tr>\n",
       "  </tbody>\n",
       "</table>\n",
       "</div>"
      ],
      "text/plain": [
       "   Balance  QualMiles  BonusMiles  BonusTrans  FlightMiles  FlightTrans  \\\n",
       "0    28143          0         174           1            0            0   \n",
       "1    19244          0         215           2            0            0   \n",
       "2    41354          0        4123           4            0            0   \n",
       "3    14776          0         500           1            0            0   \n",
       "4    97752          0       43300          26         2077            4   \n",
       "\n",
       "   DaysSinceEnroll  cluster  \n",
       "0             7000        5  \n",
       "1             6968        5  \n",
       "2             7034        5  \n",
       "3             6952        5  \n",
       "4             6935        3  "
      ]
     },
     "execution_count": 15,
     "metadata": {},
     "output_type": "execute_result"
    }
   ],
   "source": [
    "# Your code for activity 7 goes here...\n",
    "airlines_data[\"cluster\"] = clusters\n",
    "airlines_data.head()"
   ]
  },
  {
   "cell_type": "code",
   "execution_count": 16,
   "metadata": {},
   "outputs": [
    {
     "data": {
      "text/plain": [
       "(3999, 8)"
      ]
     },
     "execution_count": 16,
     "metadata": {},
     "output_type": "execute_result"
    }
   ],
   "source": [
    "airlines_data.shape"
   ]
  },
  {
   "cell_type": "code",
   "execution_count": 17,
   "metadata": {},
   "outputs": [
    {
     "data": {
      "text/plain": [
       "cluster\n",
       "1      48\n",
       "2     106\n",
       "3    1080\n",
       "4    6948\n",
       "5    9005\n",
       "Name: cluster, dtype: int32"
      ]
     },
     "execution_count": 17,
     "metadata": {},
     "output_type": "execute_result"
    }
   ],
   "source": [
    "airlines_data.groupby('cluster')['cluster'].sum()"
   ]
  },
  {
   "cell_type": "code",
   "execution_count": 18,
   "metadata": {
    "collapsed": true
   },
   "outputs": [],
   "source": [
    "grouped = airlines_data.groupby([\"cluster\"])"
   ]
  },
  {
   "cell_type": "code",
   "execution_count": 19,
   "metadata": {},
   "outputs": [
    {
     "data": {
      "text/plain": [
       "5"
      ]
     },
     "execution_count": 19,
     "metadata": {},
     "output_type": "execute_result"
    }
   ],
   "source": [
    "len(grouped)"
   ]
  },
  {
   "cell_type": "markdown",
   "metadata": {},
   "source": [
    "**Activity 8: ** Split the airlines data into 5 new dataframes according to the clusters each row is assigned to."
   ]
  },
  {
   "cell_type": "code",
   "execution_count": 20,
   "metadata": {
    "collapsed": true
   },
   "outputs": [],
   "source": [
    "# Your code for activity 8 goes here...\n",
    "\n",
    "cluster1 = airlines_data[airlines_data.cluster == 1]\n",
    "cluster2 = airlines_data[airlines_data.cluster == 2]\n",
    "cluster3 = airlines_data[airlines_data.cluster == 3]\n",
    "cluster4 = airlines_data[airlines_data.cluster == 4]\n",
    "cluster5 = airlines_data[airlines_data.cluster == 5]"
   ]
  },
  {
   "cell_type": "code",
   "execution_count": 21,
   "metadata": {},
   "outputs": [
    {
     "data": {
      "text/html": [
       "<div>\n",
       "<style>\n",
       "    .dataframe thead tr:only-child th {\n",
       "        text-align: right;\n",
       "    }\n",
       "\n",
       "    .dataframe thead th {\n",
       "        text-align: left;\n",
       "    }\n",
       "\n",
       "    .dataframe tbody tr th {\n",
       "        vertical-align: top;\n",
       "    }\n",
       "</style>\n",
       "<table border=\"1\" class=\"dataframe\">\n",
       "  <thead>\n",
       "    <tr style=\"text-align: right;\">\n",
       "      <th></th>\n",
       "      <th>Balance</th>\n",
       "      <th>QualMiles</th>\n",
       "      <th>BonusMiles</th>\n",
       "      <th>BonusTrans</th>\n",
       "      <th>FlightMiles</th>\n",
       "      <th>FlightTrans</th>\n",
       "      <th>DaysSinceEnroll</th>\n",
       "      <th>cluster</th>\n",
       "    </tr>\n",
       "  </thead>\n",
       "  <tbody>\n",
       "    <tr>\n",
       "      <th>70</th>\n",
       "      <td>84409</td>\n",
       "      <td>5031</td>\n",
       "      <td>15436</td>\n",
       "      <td>16</td>\n",
       "      <td>1150</td>\n",
       "      <td>4</td>\n",
       "      <td>7766</td>\n",
       "      <td>1</td>\n",
       "    </tr>\n",
       "    <tr>\n",
       "      <th>307</th>\n",
       "      <td>383030</td>\n",
       "      <td>2998</td>\n",
       "      <td>8001</td>\n",
       "      <td>25</td>\n",
       "      <td>3226</td>\n",
       "      <td>15</td>\n",
       "      <td>7326</td>\n",
       "      <td>1</td>\n",
       "    </tr>\n",
       "    <tr>\n",
       "      <th>335</th>\n",
       "      <td>278457</td>\n",
       "      <td>6727</td>\n",
       "      <td>57313</td>\n",
       "      <td>27</td>\n",
       "      <td>1000</td>\n",
       "      <td>2</td>\n",
       "      <td>7101</td>\n",
       "      <td>1</td>\n",
       "    </tr>\n",
       "    <tr>\n",
       "      <th>420</th>\n",
       "      <td>529886</td>\n",
       "      <td>7210</td>\n",
       "      <td>23866</td>\n",
       "      <td>26</td>\n",
       "      <td>7741</td>\n",
       "      <td>15</td>\n",
       "      <td>8296</td>\n",
       "      <td>1</td>\n",
       "    </tr>\n",
       "    <tr>\n",
       "      <th>589</th>\n",
       "      <td>133445</td>\n",
       "      <td>8264</td>\n",
       "      <td>3375</td>\n",
       "      <td>13</td>\n",
       "      <td>0</td>\n",
       "      <td>0</td>\n",
       "      <td>6492</td>\n",
       "      <td>1</td>\n",
       "    </tr>\n",
       "  </tbody>\n",
       "</table>\n",
       "</div>"
      ],
      "text/plain": [
       "     Balance  QualMiles  BonusMiles  BonusTrans  FlightMiles  FlightTrans  \\\n",
       "70     84409       5031       15436          16         1150            4   \n",
       "307   383030       2998        8001          25         3226           15   \n",
       "335   278457       6727       57313          27         1000            2   \n",
       "420   529886       7210       23866          26         7741           15   \n",
       "589   133445       8264        3375          13            0            0   \n",
       "\n",
       "     DaysSinceEnroll  cluster  \n",
       "70              7766        1  \n",
       "307             7326        1  \n",
       "335             7101        1  \n",
       "420             8296        1  \n",
       "589             6492        1  "
      ]
     },
     "execution_count": 21,
     "metadata": {},
     "output_type": "execute_result"
    }
   ],
   "source": [
    "cluster1.head()"
   ]
  },
  {
   "cell_type": "code",
   "execution_count": 22,
   "metadata": {},
   "outputs": [
    {
     "data": {
      "text/html": [
       "<div>\n",
       "<style>\n",
       "    .dataframe thead tr:only-child th {\n",
       "        text-align: right;\n",
       "    }\n",
       "\n",
       "    .dataframe thead th {\n",
       "        text-align: left;\n",
       "    }\n",
       "\n",
       "    .dataframe tbody tr th {\n",
       "        vertical-align: top;\n",
       "    }\n",
       "</style>\n",
       "<table border=\"1\" class=\"dataframe\">\n",
       "  <thead>\n",
       "    <tr style=\"text-align: right;\">\n",
       "      <th></th>\n",
       "      <th>Balance</th>\n",
       "      <th>QualMiles</th>\n",
       "      <th>BonusMiles</th>\n",
       "      <th>BonusTrans</th>\n",
       "      <th>FlightMiles</th>\n",
       "      <th>FlightTrans</th>\n",
       "      <th>DaysSinceEnroll</th>\n",
       "      <th>cluster</th>\n",
       "    </tr>\n",
       "  </thead>\n",
       "  <tbody>\n",
       "    <tr>\n",
       "      <th>65</th>\n",
       "      <td>53914</td>\n",
       "      <td>0</td>\n",
       "      <td>33767</td>\n",
       "      <td>45</td>\n",
       "      <td>5550</td>\n",
       "      <td>29</td>\n",
       "      <td>6826</td>\n",
       "      <td>2</td>\n",
       "    </tr>\n",
       "    <tr>\n",
       "      <th>135</th>\n",
       "      <td>259484</td>\n",
       "      <td>1776</td>\n",
       "      <td>19172</td>\n",
       "      <td>26</td>\n",
       "      <td>7172</td>\n",
       "      <td>23</td>\n",
       "      <td>6723</td>\n",
       "      <td>2</td>\n",
       "    </tr>\n",
       "    <tr>\n",
       "      <th>323</th>\n",
       "      <td>278727</td>\n",
       "      <td>0</td>\n",
       "      <td>21666</td>\n",
       "      <td>19</td>\n",
       "      <td>9166</td>\n",
       "      <td>16</td>\n",
       "      <td>7155</td>\n",
       "      <td>2</td>\n",
       "    </tr>\n",
       "    <tr>\n",
       "      <th>475</th>\n",
       "      <td>171509</td>\n",
       "      <td>0</td>\n",
       "      <td>40090</td>\n",
       "      <td>55</td>\n",
       "      <td>6381</td>\n",
       "      <td>23</td>\n",
       "      <td>8151</td>\n",
       "      <td>2</td>\n",
       "    </tr>\n",
       "    <tr>\n",
       "      <th>511</th>\n",
       "      <td>9800</td>\n",
       "      <td>589</td>\n",
       "      <td>10348</td>\n",
       "      <td>34</td>\n",
       "      <td>3000</td>\n",
       "      <td>25</td>\n",
       "      <td>6651</td>\n",
       "      <td>2</td>\n",
       "    </tr>\n",
       "  </tbody>\n",
       "</table>\n",
       "</div>"
      ],
      "text/plain": [
       "     Balance  QualMiles  BonusMiles  BonusTrans  FlightMiles  FlightTrans  \\\n",
       "65     53914          0       33767          45         5550           29   \n",
       "135   259484       1776       19172          26         7172           23   \n",
       "323   278727          0       21666          19         9166           16   \n",
       "475   171509          0       40090          55         6381           23   \n",
       "511     9800        589       10348          34         3000           25   \n",
       "\n",
       "     DaysSinceEnroll  cluster  \n",
       "65              6826        2  \n",
       "135             6723        2  \n",
       "323             7155        2  \n",
       "475             8151        2  \n",
       "511             6651        2  "
      ]
     },
     "execution_count": 22,
     "metadata": {},
     "output_type": "execute_result"
    }
   ],
   "source": [
    "cluster2.head()"
   ]
  },
  {
   "cell_type": "code",
   "execution_count": 23,
   "metadata": {},
   "outputs": [
    {
     "data": {
      "text/html": [
       "<div>\n",
       "<style>\n",
       "    .dataframe thead tr:only-child th {\n",
       "        text-align: right;\n",
       "    }\n",
       "\n",
       "    .dataframe thead th {\n",
       "        text-align: left;\n",
       "    }\n",
       "\n",
       "    .dataframe tbody tr th {\n",
       "        vertical-align: top;\n",
       "    }\n",
       "</style>\n",
       "<table border=\"1\" class=\"dataframe\">\n",
       "  <thead>\n",
       "    <tr style=\"text-align: right;\">\n",
       "      <th></th>\n",
       "      <th>Balance</th>\n",
       "      <th>QualMiles</th>\n",
       "      <th>BonusMiles</th>\n",
       "      <th>BonusTrans</th>\n",
       "      <th>FlightMiles</th>\n",
       "      <th>FlightTrans</th>\n",
       "      <th>DaysSinceEnroll</th>\n",
       "      <th>cluster</th>\n",
       "    </tr>\n",
       "  </thead>\n",
       "  <tbody>\n",
       "    <tr>\n",
       "      <th>4</th>\n",
       "      <td>97752</td>\n",
       "      <td>0</td>\n",
       "      <td>43300</td>\n",
       "      <td>26</td>\n",
       "      <td>2077</td>\n",
       "      <td>4</td>\n",
       "      <td>6935</td>\n",
       "      <td>3</td>\n",
       "    </tr>\n",
       "    <tr>\n",
       "      <th>8</th>\n",
       "      <td>443003</td>\n",
       "      <td>0</td>\n",
       "      <td>1753</td>\n",
       "      <td>43</td>\n",
       "      <td>3850</td>\n",
       "      <td>12</td>\n",
       "      <td>6948</td>\n",
       "      <td>3</td>\n",
       "    </tr>\n",
       "    <tr>\n",
       "      <th>22</th>\n",
       "      <td>20584</td>\n",
       "      <td>0</td>\n",
       "      <td>3450</td>\n",
       "      <td>11</td>\n",
       "      <td>3450</td>\n",
       "      <td>11</td>\n",
       "      <td>6884</td>\n",
       "      <td>3</td>\n",
       "    </tr>\n",
       "    <tr>\n",
       "      <th>35</th>\n",
       "      <td>123759</td>\n",
       "      <td>0</td>\n",
       "      <td>50572</td>\n",
       "      <td>23</td>\n",
       "      <td>2500</td>\n",
       "      <td>5</td>\n",
       "      <td>7865</td>\n",
       "      <td>3</td>\n",
       "    </tr>\n",
       "    <tr>\n",
       "      <th>42</th>\n",
       "      <td>60313</td>\n",
       "      <td>0</td>\n",
       "      <td>10000</td>\n",
       "      <td>26</td>\n",
       "      <td>3250</td>\n",
       "      <td>9</td>\n",
       "      <td>7829</td>\n",
       "      <td>3</td>\n",
       "    </tr>\n",
       "  </tbody>\n",
       "</table>\n",
       "</div>"
      ],
      "text/plain": [
       "    Balance  QualMiles  BonusMiles  BonusTrans  FlightMiles  FlightTrans  \\\n",
       "4     97752          0       43300          26         2077            4   \n",
       "8    443003          0        1753          43         3850           12   \n",
       "22    20584          0        3450          11         3450           11   \n",
       "35   123759          0       50572          23         2500            5   \n",
       "42    60313          0       10000          26         3250            9   \n",
       "\n",
       "    DaysSinceEnroll  cluster  \n",
       "4              6935        3  \n",
       "8              6948        3  \n",
       "22             6884        3  \n",
       "35             7865        3  \n",
       "42             7829        3  "
      ]
     },
     "execution_count": 23,
     "metadata": {},
     "output_type": "execute_result"
    }
   ],
   "source": [
    "cluster3.head()"
   ]
  },
  {
   "cell_type": "code",
   "execution_count": 24,
   "metadata": {},
   "outputs": [
    {
     "data": {
      "text/html": [
       "<div>\n",
       "<style>\n",
       "    .dataframe thead tr:only-child th {\n",
       "        text-align: right;\n",
       "    }\n",
       "\n",
       "    .dataframe thead th {\n",
       "        text-align: left;\n",
       "    }\n",
       "\n",
       "    .dataframe tbody tr th {\n",
       "        vertical-align: top;\n",
       "    }\n",
       "</style>\n",
       "<table border=\"1\" class=\"dataframe\">\n",
       "  <thead>\n",
       "    <tr style=\"text-align: right;\">\n",
       "      <th></th>\n",
       "      <th>Balance</th>\n",
       "      <th>QualMiles</th>\n",
       "      <th>BonusMiles</th>\n",
       "      <th>BonusTrans</th>\n",
       "      <th>FlightMiles</th>\n",
       "      <th>FlightTrans</th>\n",
       "      <th>DaysSinceEnroll</th>\n",
       "      <th>cluster</th>\n",
       "    </tr>\n",
       "  </thead>\n",
       "  <tbody>\n",
       "    <tr>\n",
       "      <th>6</th>\n",
       "      <td>84914</td>\n",
       "      <td>0</td>\n",
       "      <td>27482</td>\n",
       "      <td>25</td>\n",
       "      <td>0</td>\n",
       "      <td>0</td>\n",
       "      <td>6994</td>\n",
       "      <td>4</td>\n",
       "    </tr>\n",
       "    <tr>\n",
       "      <th>9</th>\n",
       "      <td>104860</td>\n",
       "      <td>0</td>\n",
       "      <td>28426</td>\n",
       "      <td>28</td>\n",
       "      <td>1150</td>\n",
       "      <td>3</td>\n",
       "      <td>6931</td>\n",
       "      <td>4</td>\n",
       "    </tr>\n",
       "    <tr>\n",
       "      <th>10</th>\n",
       "      <td>40091</td>\n",
       "      <td>0</td>\n",
       "      <td>7278</td>\n",
       "      <td>10</td>\n",
       "      <td>0</td>\n",
       "      <td>0</td>\n",
       "      <td>6959</td>\n",
       "      <td>4</td>\n",
       "    </tr>\n",
       "    <tr>\n",
       "      <th>11</th>\n",
       "      <td>96522</td>\n",
       "      <td>0</td>\n",
       "      <td>61105</td>\n",
       "      <td>19</td>\n",
       "      <td>0</td>\n",
       "      <td>0</td>\n",
       "      <td>6924</td>\n",
       "      <td>4</td>\n",
       "    </tr>\n",
       "    <tr>\n",
       "      <th>12</th>\n",
       "      <td>43382</td>\n",
       "      <td>0</td>\n",
       "      <td>11150</td>\n",
       "      <td>20</td>\n",
       "      <td>0</td>\n",
       "      <td>0</td>\n",
       "      <td>6924</td>\n",
       "      <td>4</td>\n",
       "    </tr>\n",
       "  </tbody>\n",
       "</table>\n",
       "</div>"
      ],
      "text/plain": [
       "    Balance  QualMiles  BonusMiles  BonusTrans  FlightMiles  FlightTrans  \\\n",
       "6     84914          0       27482          25            0            0   \n",
       "9    104860          0       28426          28         1150            3   \n",
       "10    40091          0        7278          10            0            0   \n",
       "11    96522          0       61105          19            0            0   \n",
       "12    43382          0       11150          20            0            0   \n",
       "\n",
       "    DaysSinceEnroll  cluster  \n",
       "6              6994        4  \n",
       "9              6931        4  \n",
       "10             6959        4  \n",
       "11             6924        4  \n",
       "12             6924        4  "
      ]
     },
     "execution_count": 24,
     "metadata": {},
     "output_type": "execute_result"
    }
   ],
   "source": [
    "cluster4.head()"
   ]
  },
  {
   "cell_type": "code",
   "execution_count": 25,
   "metadata": {},
   "outputs": [
    {
     "data": {
      "text/html": [
       "<div>\n",
       "<style>\n",
       "    .dataframe thead tr:only-child th {\n",
       "        text-align: right;\n",
       "    }\n",
       "\n",
       "    .dataframe thead th {\n",
       "        text-align: left;\n",
       "    }\n",
       "\n",
       "    .dataframe tbody tr th {\n",
       "        vertical-align: top;\n",
       "    }\n",
       "</style>\n",
       "<table border=\"1\" class=\"dataframe\">\n",
       "  <thead>\n",
       "    <tr style=\"text-align: right;\">\n",
       "      <th></th>\n",
       "      <th>Balance</th>\n",
       "      <th>QualMiles</th>\n",
       "      <th>BonusMiles</th>\n",
       "      <th>BonusTrans</th>\n",
       "      <th>FlightMiles</th>\n",
       "      <th>FlightTrans</th>\n",
       "      <th>DaysSinceEnroll</th>\n",
       "      <th>cluster</th>\n",
       "    </tr>\n",
       "  </thead>\n",
       "  <tbody>\n",
       "    <tr>\n",
       "      <th>0</th>\n",
       "      <td>28143</td>\n",
       "      <td>0</td>\n",
       "      <td>174</td>\n",
       "      <td>1</td>\n",
       "      <td>0</td>\n",
       "      <td>0</td>\n",
       "      <td>7000</td>\n",
       "      <td>5</td>\n",
       "    </tr>\n",
       "    <tr>\n",
       "      <th>1</th>\n",
       "      <td>19244</td>\n",
       "      <td>0</td>\n",
       "      <td>215</td>\n",
       "      <td>2</td>\n",
       "      <td>0</td>\n",
       "      <td>0</td>\n",
       "      <td>6968</td>\n",
       "      <td>5</td>\n",
       "    </tr>\n",
       "    <tr>\n",
       "      <th>2</th>\n",
       "      <td>41354</td>\n",
       "      <td>0</td>\n",
       "      <td>4123</td>\n",
       "      <td>4</td>\n",
       "      <td>0</td>\n",
       "      <td>0</td>\n",
       "      <td>7034</td>\n",
       "      <td>5</td>\n",
       "    </tr>\n",
       "    <tr>\n",
       "      <th>3</th>\n",
       "      <td>14776</td>\n",
       "      <td>0</td>\n",
       "      <td>500</td>\n",
       "      <td>1</td>\n",
       "      <td>0</td>\n",
       "      <td>0</td>\n",
       "      <td>6952</td>\n",
       "      <td>5</td>\n",
       "    </tr>\n",
       "    <tr>\n",
       "      <th>5</th>\n",
       "      <td>16420</td>\n",
       "      <td>0</td>\n",
       "      <td>0</td>\n",
       "      <td>0</td>\n",
       "      <td>0</td>\n",
       "      <td>0</td>\n",
       "      <td>6942</td>\n",
       "      <td>5</td>\n",
       "    </tr>\n",
       "  </tbody>\n",
       "</table>\n",
       "</div>"
      ],
      "text/plain": [
       "   Balance  QualMiles  BonusMiles  BonusTrans  FlightMiles  FlightTrans  \\\n",
       "0    28143          0         174           1            0            0   \n",
       "1    19244          0         215           2            0            0   \n",
       "2    41354          0        4123           4            0            0   \n",
       "3    14776          0         500           1            0            0   \n",
       "5    16420          0           0           0            0            0   \n",
       "\n",
       "   DaysSinceEnroll  cluster  \n",
       "0             7000        5  \n",
       "1             6968        5  \n",
       "2             7034        5  \n",
       "3             6952        5  \n",
       "5             6942        5  "
      ]
     },
     "execution_count": 25,
     "metadata": {},
     "output_type": "execute_result"
    }
   ],
   "source": [
    "cluster5.head()"
   ]
  },
  {
   "cell_type": "markdown",
   "metadata": {},
   "source": [
    "Creating a list below with the five new clusters formed. "
   ]
  },
  {
   "cell_type": "code",
   "execution_count": 26,
   "metadata": {
    "collapsed": true
   },
   "outputs": [],
   "source": [
    "clt = [cluster1, cluster2, cluster3, cluster4, cluster5]"
   ]
  },
  {
   "cell_type": "markdown",
   "metadata": {},
   "source": [
    "**Activity 9: ** Compare the mean values in each of the variables for the 5 clusters. You may want to compute the average values of the unnormalized data(airlines_data) so that it is easier to interpret.\n",
    "\n",
    "**Sample output: **\n",
    "\n",
    "dimensions of cluster:  (48, 8)\n",
    "\n",
    "Balance:  135318\n",
    "\n",
    "QualMiles:  5870\n",
    "\n",
    "BonusMiles:  16406\n",
    "\n",
    "BonusTrans:  13\n",
    "\n",
    "FlightMiles:  975\n",
    "\n",
    "FlightTrans:  3\n",
    "\n",
    "DaysSinceEnroll:  4320\n",
    "\n",
    "cluster:  1"
   ]
  },
  {
   "cell_type": "code",
   "execution_count": 56,
   "metadata": {},
   "outputs": [
    {
     "name": "stdout",
     "output_type": "stream",
     "text": [
      "dimensions of cluster (48, 8)\n",
      "Balance            135318.020833\n",
      "QualMiles            5870.062500\n",
      "BonusMiles          16406.000000\n",
      "BonusTrans             12.645833\n",
      "FlightMiles           974.770833\n",
      "FlightTrans             3.270833\n",
      "DaysSinceEnroll      4320.375000\n",
      "cluster                 1.000000\n",
      "dtype: float64\n",
      "dimensions of cluster (53, 8)\n",
      "Balance            154830.603774\n",
      "QualMiles             490.716981\n",
      "BonusMiles          32137.018868\n",
      "BonusTrans             33.471698\n",
      "FlightMiles          8752.622642\n",
      "FlightTrans            23.679245\n",
      "DaysSinceEnroll      4046.830189\n",
      "cluster                 2.000000\n",
      "dtype: float64\n",
      "dimensions of cluster (360, 8)\n",
      "Balance            204316.227778\n",
      "QualMiles             144.711111\n",
      "BonusMiles          36265.022222\n",
      "BonusTrans             19.802778\n",
      "FlightMiles          2286.719444\n",
      "FlightTrans             6.744444\n",
      "DaysSinceEnroll      4744.158333\n",
      "cluster                 3.000000\n",
      "dtype: float64\n",
      "dimensions of cluster (1737, 8)\n",
      "Balance            79910.013241\n",
      "QualMiles            123.694876\n",
      "BonusMiles         26735.156592\n",
      "BonusTrans            16.832470\n",
      "FlightMiles          148.672424\n",
      "FlightTrans            0.483592\n",
      "DaysSinceEnroll     4727.468048\n",
      "cluster                4.000000\n",
      "dtype: float64\n",
      "dimensions of cluster (1801, 8)\n",
      "Balance            37353.074403\n",
      "QualMiles              0.882288\n",
      "BonusMiles          3651.923931\n",
      "BonusTrans             4.246530\n",
      "FlightMiles          137.491394\n",
      "FlightTrans            0.451416\n",
      "DaysSinceEnroll     3402.970572\n",
      "cluster                5.000000\n",
      "dtype: float64\n",
      "\n"
     ]
    }
   ],
   "source": [
    "# Supress scientific notation. Output numbers look neat without 10 digit long precision values\n",
    "np.set_printoptions(suppress=True)\n",
    "\n",
    "# Your code for activity 9 goes here..\n",
    "import scipy\n",
    "for x in clt:\n",
    "    print('dimensions of cluster',(x).shape)\n",
    "    print(scipy.mean(x))\n",
    "print()"
   ]
  },
  {
   "cell_type": "markdown",
   "metadata": {},
   "source": [
    "**Activity 10: ** Write your conclusions based on the average values for each variable in each cluster. "
   ]
  },
  {
   "cell_type": "markdown",
   "metadata": {},
   "source": [
    "Cluster 1:\n",
    "This cluster is the smallest of the set. Balance avg seems to fall right in the middle of the group. This cluster has the highest avg of Qualmiles in the program. The BonusMiles and BonusTrans avgs vs the actual FlightMiles and FlightTrans suggests that this cluster is more interested in non-flight incentives. I would guess this activity relates to the medium-ish avg balance given the small size of the cluster. Althought not the highest avg, the DaysSinceEnroll indicates this cluster has been using the program for quite some time.\n",
    "\n",
    "Cluster 2:\n",
    "This cluster is the second to smallest of the set. This cluster's avg Balance is the second largest. The Qualmiles avg, however is suprisingly low given such a high balance. Alternatively, the BonusMiles and BonusTrans avgs are quite high, BonusTrans is the highest of the set. This cluster seems to be the most interested in non-flight transactions. This cluster has the highest avg FlightMiles and highest avg FlightTrans of the group. This cluster looks like power users. It's the second smallest cluster, but uses the program more extensively than the other clusters.\n",
    "\n",
    "Cluster 3:\n",
    "This cluster is the third largest of the bunch and has the highest avg Balance. This cluster has also been enrolled in the program the longest. This cluster also has third highest avg of QualMiles, but the highest avg BonusMiles. Avg FlightMiles is the second highest. I would guess that this is a loyal group of customers in the program that saves up Balance with a mix of FlightMiles and on non-flight bonuses. They probably rely more heavily on non-flight bonuses as the QualMiles avg is fairly low.\n",
    "\n",
    "Cluster 4:\n",
    "For having been enrolled in the program for a while (DaysSinceEnroll avg is second highest), it's surprising that the FlightMiles and QualMiles is so low. This cluster does not seem to travel much, but does seem to take advantage of non-flight BonusMiles. Their BonusMiles avg is the second highest of the set. BonusTrans avg is the third highest of the bunch. Again, this seems to suggest that this cluster is more interested in non-flight bonuses.\n",
    "\n",
    "Cluster 5:\n",
    "This cluster is the largest and the newest of the group (DaysSinceEnroll is the smallest avg of the set). This may also be the reason for having the smallest Balance avg as well. This group flies the least and does not seem to have any QualMiles. Out of all of the clusters, this group needs to be marketed to the most."
   ]
  }
 ],
 "metadata": {
  "kernelspec": {
   "display_name": "Python 3",
   "language": "python",
   "name": "python3"
  },
  "language_info": {
   "codemirror_mode": {
    "name": "ipython",
    "version": 3
   },
   "file_extension": ".py",
   "mimetype": "text/x-python",
   "name": "python",
   "nbconvert_exporter": "python",
   "pygments_lexer": "ipython3",
   "version": "3.4.5"
  }
 },
 "nbformat": 4,
 "nbformat_minor": 1
}
